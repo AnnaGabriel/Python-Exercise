{
 "cells": [
  {
   "cell_type": "code",
   "execution_count": 85,
   "metadata": {},
   "outputs": [],
   "source": [
    "import random\n",
    "def greedisland():\n",
    "    p1 = input('Choose rock, paper, or scissors: ')\n",
    "    p2 = random.choice(['rock','paper','scissors'])\n",
    "    print(p2)\n",
    "    'rock' == 'rock'\n",
    "    'paper' == 'paper'\n",
    "    'scissors' == 'scissors'\n",
    "    if (p2 == 'rock' and p1 == 'rock' or \n",
    "        p2 == 'scissors' and p1 == 'scissors' or\n",
    "        p2 == 'paper' and p1 == 'paper'):\n",
    "            print(\"Its a tie!\")\n",
    "    elif (p2 == 'rock' and p1 == 'scissors' or\n",
    "                p2 == 'scissors' and p1 == 'paper' or\n",
    "                p2 == 'paper' and p1 == 'rock'):\n",
    "                    print(\"I win! You lose, sucker\")\n",
    "    else: print(\"I lose. Rematch?\")\n",
    "            "
   ]
  },
  {
   "cell_type": "code",
   "execution_count": 96,
   "metadata": {},
   "outputs": [
    {
     "name": "stdout",
     "output_type": "stream",
     "text": [
      "Choose rock, paper, or scissors: rock\n",
      "scissors\n",
      "I lose. Rematch?\n"
     ]
    }
   ],
   "source": [
    "greedisland()"
   ]
  },
  {
   "cell_type": "code",
   "execution_count": null,
   "metadata": {},
   "outputs": [],
   "source": []
  }
 ],
 "metadata": {
  "kernelspec": {
   "display_name": "Python 3",
   "language": "python",
   "name": "python3"
  },
  "language_info": {
   "codemirror_mode": {
    "name": "ipython",
    "version": 3
   },
   "file_extension": ".py",
   "mimetype": "text/x-python",
   "name": "python",
   "nbconvert_exporter": "python",
   "pygments_lexer": "ipython3",
   "version": "3.7.3"
  }
 },
 "nbformat": 4,
 "nbformat_minor": 2
}
